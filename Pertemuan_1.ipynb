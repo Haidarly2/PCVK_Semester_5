{
  "nbformat": 4,
  "nbformat_minor": 0,
  "metadata": {
    "colab": {
      "provenance": [],
      "authorship_tag": "ABX9TyNBwUG0yWTD+9OyE1w6koZ7",
      "include_colab_link": true
    },
    "kernelspec": {
      "name": "python3",
      "display_name": "Python 3"
    },
    "language_info": {
      "name": "python"
    }
  },
  "cells": [
    {
      "cell_type": "markdown",
      "metadata": {
        "id": "view-in-github",
        "colab_type": "text"
      },
      "source": [
        "<a href=\"https://colab.research.google.com/github/Haidarly2/PCVK_Semester_5/blob/main/Pertemuan_1.ipynb\" target=\"_parent\"><img src=\"https://colab.research.google.com/assets/colab-badge.svg\" alt=\"Open In Colab\"/></a>"
      ]
    },
    {
      "cell_type": "markdown",
      "source": [
        "# Langkah 1 :\n",
        "\n",
        "Citra Digital (Citra Raster) adalah representasi numerik dari citra dua dimensi. Nilai\n",
        "numerik yang direpresentasikan umumnya adalah nilai biner 8 bit. Nilai biner ini disimpan pada\n",
        "elemen citra yang sering disebut sebagai pixel. Citra digital berisi pixel yang jumlah baris dan\n",
        "kolomnya tetap. Pixel adalah elemen gambar terkecil dari citra digital. Pixel disimpan pada\n",
        "memory computer sebagai map raster, yaitu array dua dimensi bertipe integer.\n",
        "\n",
        "Pada code awal, beberapa library yang akan digunakan adalah: **numpy, pandas, cv2, skimage, PIL, matplotlib**"
      ],
      "metadata": {
        "id": "u0qOlfQULUfy"
      }
    },
    {
      "cell_type": "code",
      "execution_count": null,
      "metadata": {
        "id": "N3awtykbKJM5"
      },
      "outputs": [],
      "source": [
        "import numpy as np\n",
        "import pandas as pd\n",
        "import cv2 as cv\n"
      ]
    }
  ]
}