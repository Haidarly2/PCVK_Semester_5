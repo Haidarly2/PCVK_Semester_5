{
  "nbformat": 4,
  "nbformat_minor": 0,
  "metadata": {
    "colab": {
      "provenance": [],
      "authorship_tag": "ABX9TyPd9moUBwnsMQ50anO4jpB4",
      "include_colab_link": true
    },
    "kernelspec": {
      "name": "python3",
      "display_name": "Python 3"
    },
    "language_info": {
      "name": "python"
    }
  },
  "cells": [
    {
      "cell_type": "markdown",
      "metadata": {
        "id": "view-in-github",
        "colab_type": "text"
      },
      "source": [
        "<a href=\"https://colab.research.google.com/github/Haidarly2/PCVK_Semester_5/blob/main/Pertemuan_9.ipynb\" target=\"_parent\"><img src=\"https://colab.research.google.com/assets/colab-badge.svg\" alt=\"Open In Colab\"/></a>"
      ]
    },
    {
      "cell_type": "code",
      "execution_count": null,
      "metadata": {
        "id": "a9q3b_J4_I7f"
      },
      "outputs": [],
      "source": [
        "from google.colab import drive\n",
        "drive.mount('/content/drive')"
      ]
    },
    {
      "cell_type": "code",
      "source": [
        "import cv2\n",
        "import numpy as np\n",
        "from matplotlib import pyplot as plt"
      ],
      "metadata": {
        "id": "Wm5e78clAzrk"
      },
      "execution_count": null,
      "outputs": []
    },
    {
      "cell_type": "markdown",
      "source": [
        "## **Dilasi**"
      ],
      "metadata": {
        "id": "o4zVJMkNIud2"
      }
    },
    {
      "cell_type": "markdown",
      "source": [
        "### **Tanpa Library**"
      ],
      "metadata": {
        "id": "ZKQ6elBkJDUA"
      }
    },
    {
      "cell_type": "code",
      "source": [
        "def dilasi_citra(F,w):\n",
        "  #size image\n",
        "  p,q= F.shape\n",
        "  imgD= np.zeros((p,q), dtype=np.uint8)\n",
        "  #Generate structure element dilasi (SED)\n",
        "  SED= np.ones((w,w), dtype=np.uint8)\n",
        "  constant1= (w-1)//2\n",
        "  #Proses Dilasi\n",
        "  for i in range(constant1, p-constant1):\n",
        "    for j in range(constant1,q-constant1):\n",
        "      temp= F[i-constant1:i+constant1+1, j-constant1:j+constant1+1]\n",
        "      product= temp*SED\n",
        "      imgD[i,j]= np.max(product)\n",
        "\n",
        "  return imgD"
      ],
      "metadata": {
        "id": "IRc45lBuBVT8"
      },
      "execution_count": null,
      "outputs": []
    },
    {
      "cell_type": "code",
      "source": [
        "img_d= cv2.imread('/content/drive/MyDrive/PCVK/Images/platnomer.jpg',0)\n",
        "ret, thresh = cv2.threshold(img_d, 125, 200, cv2.THRESH_BINARY)\n",
        "w=5\n",
        "imgD = dilasi_citra(thresh,w)\n",
        "\n",
        "plt.subplot(131),plt.imshow(img_d,cmap = 'gray')\n",
        "plt.title('Citra Awal'), plt.xticks([]), plt.yticks([])\n",
        "plt.subplot(132),plt.imshow(imgD,cmap = 'gray')\n",
        "plt.title('Citra Hasil Dilasi'), plt.xticks([]), plt.yticks([])\n",
        "plt.show()"
      ],
      "metadata": {
        "id": "jlPGSVkKEEAG"
      },
      "execution_count": null,
      "outputs": []
    },
    {
      "cell_type": "markdown",
      "source": [
        "### **Dengan Library**"
      ],
      "metadata": {
        "id": "kw9Pzm26JHry"
      }
    },
    {
      "cell_type": "code",
      "source": [
        "img = cv2.imread('/content/drive/MyDrive/PCVK/Images/platnomer.jpg')\n",
        "#img = cv2.imread('morp.jpg',0)\n",
        "ret, thresh = cv2.threshold(img, 127, 225, cv2.THRESH_BINARY)\n",
        "kernel = np.ones((3,3),np.uint16)\n",
        "dilasi = cv2.dilate(thresh,kernel,iterations = 1)\n",
        "print(kernel)\n",
        "\n",
        "plt.subplot(121),plt.imshow(img),plt.title('Citra Awal')\n",
        "plt.xticks([]), plt.yticks([])\n",
        "plt.subplot(122),plt.imshow(dilasi),plt.title('Citra Hasil Dilasi')\n",
        "plt.xticks([]), plt.yticks([])\n",
        "plt.show()"
      ],
      "metadata": {
        "id": "AyloU1FFETtd"
      },
      "execution_count": null,
      "outputs": []
    },
    {
      "cell_type": "markdown",
      "source": [
        "## **Erosi**"
      ],
      "metadata": {
        "id": "8djuJ6uQJOcr"
      }
    },
    {
      "cell_type": "markdown",
      "source": [
        "### **Tanpa Library**"
      ],
      "metadata": {
        "id": "nt2bjmOYJQhr"
      }
    },
    {
      "cell_type": "code",
      "source": [
        "#Erosi Tanpa Library\n",
        "def erosi_citra(F,k):\n",
        "  #size image\n",
        "  m,n= F.shape\n",
        "  #Generate structure element erosi (SE)\n",
        "  SE= np.ones((k,k), dtype=np.uint8)\n",
        "  constant= (k-1)//2\n",
        "  imgE= np.zeros((m,n), dtype=np.uint8)\n",
        "  #Proses Erosi\n",
        "  for i in range(constant, m-constant):\n",
        "    for j in range(constant,n-constant):\n",
        "      temp= F[i-constant:i+constant+1, j-constant:j+constant+1]\n",
        "      product= temp*SE\n",
        "      imgE[i,j]= np.min(product)\n",
        "\n",
        "  return imgE"
      ],
      "metadata": {
        "id": "O4dkCN-SEt0i"
      },
      "execution_count": null,
      "outputs": []
    },
    {
      "cell_type": "code",
      "source": [
        "img_e= cv2.imread('/content/drive/MyDrive/PCVK/Images/platnomer.jpg',0) #\n",
        "ret1, thresh1 = cv2.threshold(img_e, 175, 225, cv2.THRESH_BINARY)\n",
        "k=5\n",
        "imgE = erosi_citra(thresh1,k)\n",
        "\n",
        "plt.subplot(131),plt.imshow(img_e,cmap = 'gray')\n",
        "plt.title('Citra Awal'), plt.xticks([]), plt.yticks([])\n",
        "plt.subplot(132),plt.imshow(imgE,cmap = 'gray')\n",
        "plt.title('Citra Hasil Erosi'), plt.xticks([]),\n",
        "plt.yticks([])\n",
        "plt.show()"
      ],
      "metadata": {
        "id": "jYQAV07cE3D7"
      },
      "execution_count": null,
      "outputs": []
    },
    {
      "cell_type": "markdown",
      "source": [
        "### **Dengan Library**"
      ],
      "metadata": {
        "id": "OT_rP2lhJU4K"
      }
    },
    {
      "cell_type": "code",
      "source": [
        "#EROSI LIBRARY\n",
        "img = cv2.imread('/content/drive/MyDrive/PCVK/Images/platnomer.jpg')\n",
        "kernel = np.ones((5,5),np.uint8)\n",
        "erosion = cv2.erode(img,kernel,iterations = 1)\n",
        "\n",
        "plt.subplot(121),plt.imshow(img),plt.title('Citra Awal')\n",
        "plt.xticks([]), plt.yticks([])\n",
        "plt.subplot(122),plt.imshow(erosion),plt.title('Citra Hasil Erosi')\n",
        "plt.xticks([]), plt.yticks([])\n",
        "plt.show()"
      ],
      "metadata": {
        "id": "EK3p9foRFlvi"
      },
      "execution_count": null,
      "outputs": []
    },
    {
      "cell_type": "markdown",
      "source": [
        "## **Opening**"
      ],
      "metadata": {
        "id": "I7r0TD_VKJ7N"
      }
    },
    {
      "cell_type": "markdown",
      "source": [
        "### **Tanpa Library**"
      ],
      "metadata": {
        "id": "HxgJoYsDKJ4B"
      }
    },
    {
      "cell_type": "code",
      "source": [
        "# Fungsi Erosion Manual\n",
        "def erosi_citra(image, kernel_size):\n",
        "    h, w = image.shape  # Ukuran gambar\n",
        "    pad = kernel_size // 2  # Padding untuk kernel\n",
        "    output = np.zeros_like(image)  # Hasil erosion\n",
        "\n",
        "    # Iterasi setiap piksel dengan padding\n",
        "    for y in range(pad, h - pad):\n",
        "        for x in range(pad, w - pad):\n",
        "            # Ambil area gambar sesuai ukuran kernel\n",
        "            region = image[y - pad:y + pad + 1, x - pad:x + pad + 1]\n",
        "            # Erosion: Semua piksel di bawah kernel harus bernilai 255\n",
        "            if np.all(region == 255):\n",
        "                output[y, x] = 255\n",
        "\n",
        "    return output\n",
        "\n",
        "# Fungsi Dilation Manual\n",
        "def dilasi_citra(image, kernel_size):\n",
        "    h, w = image.shape\n",
        "    pad = kernel_size // 2\n",
        "    output = np.zeros_like(image)  # Hasil dilation\n",
        "\n",
        "    # Iterasi setiap piksel dengan padding\n",
        "    for y in range(pad, h - pad):\n",
        "        for x in range(pad, w - pad):\n",
        "            # Ambil area gambar sesuai ukuran kernel\n",
        "            region = image[y - pad:y + pad + 1, x - pad:x + pad + 1]\n",
        "            # Dilation: Setidaknya satu piksel di bawah kernel harus bernilai 255\n",
        "            if np.any(region == 255):\n",
        "                output[y, x] = 255\n",
        "\n",
        "    return output"
      ],
      "metadata": {
        "id": "qvBgvoOzW8-5"
      },
      "execution_count": null,
      "outputs": []
    },
    {
      "cell_type": "code",
      "source": [
        "# Baca gambar dan lakukan thresholding\n",
        "img_o = cv2.imread('/content/drive/MyDrive/PCVK/Images/platnomer.jpg', 0)\n",
        "ret, thresho = cv2.threshold(img_o, 127, 225, cv2.THRESH_BINARY)\n",
        "# Ukuran kernel untuk operasi\n",
        "k = 7\n",
        "# Terapkan operasi opening (Erosi diikuti Dilasi)\n",
        "imgO = dilasi_citra(erosi_citra(thresho, k), k)\n",
        "\n",
        "# Tampilkan gambar asli dan hasil operasi opening\n",
        "plt.subplot(131), plt.imshow(img_o, cmap='gray')\n",
        "plt.title('Citra Awal'), plt.xticks([]), plt.yticks([])\n",
        "plt.subplot(132), plt.imshow(thresho, cmap='gray')\n",
        "plt.title('Citra Biner'), plt.xticks([]), plt.yticks([])\n",
        "plt.subplot(133), plt.imshow(imgO, cmap='gray')\n",
        "plt.title('Citra Hasil Opening'), plt.xticks([]), plt.yticks([])\n",
        "plt.show()"
      ],
      "metadata": {
        "id": "HjRRn2mPW9z6"
      },
      "execution_count": null,
      "outputs": []
    },
    {
      "cell_type": "markdown",
      "source": [
        "### **Dengan Library**"
      ],
      "metadata": {
        "id": "dNRjCshWKY1u"
      }
    },
    {
      "cell_type": "code",
      "source": [
        "#Dengan Menggunakan Library\n",
        "img = cv2.imread('/content/drive/MyDrive/PCVK/Images/platnomer.jpg',0)\n",
        "ret, thresh = cv2.threshold(img, 127, 225, cv2.THRESH_BINARY)\n",
        "kernel = np.ones((3,3),np.uint8)\n",
        "openn = cv2.morphologyEx(thresh,cv2.MORPH_OPEN, kernel)\n",
        "\n",
        "plt.subplot(131),plt.imshow(img,cmap = 'gray')\n",
        "plt.title('Citra Awal'), plt.xticks([]), plt.yticks([])\n",
        "plt.subplot(132),plt.imshow(thresh,cmap = 'gray')\n",
        "plt.title('Citra Biner'), plt.xticks([]), plt.yticks([])\n",
        "plt.subplot(133),plt.imshow(openn,cmap = 'gray')\n",
        "plt.title('Citra Hasil Opening'), plt.xticks([]),\n",
        "plt.yticks([])\n",
        "plt.show()"
      ],
      "metadata": {
        "id": "PBtpnqHBGMAI"
      },
      "execution_count": null,
      "outputs": []
    },
    {
      "cell_type": "markdown",
      "source": [
        "## **Closing**"
      ],
      "metadata": {
        "id": "DTOInNIlKhFy"
      }
    },
    {
      "cell_type": "markdown",
      "source": [
        "### **Tanpa Library**"
      ],
      "metadata": {
        "id": "2k732VaDKhAU"
      }
    },
    {
      "cell_type": "code",
      "source": [
        "# Fungsi Erosi Manual\n",
        "def erosi_citra(image, kernel_size):\n",
        "    h, w = image.shape\n",
        "    pad = kernel_size // 2\n",
        "    output = np.zeros_like(image)  # Hasil erosi\n",
        "\n",
        "    # Iterasi setiap piksel dengan padding\n",
        "    for y in range(pad, h - pad):\n",
        "        for x in range(pad, w - pad):\n",
        "            # Ambil area gambar sesuai ukuran kernel\n",
        "            region = image[y - pad:y + pad + 1, x - pad:x + pad + 1]\n",
        "            # Erosi: Semua piksel di bawah kernel harus bernilai 255\n",
        "            if np.all(region == 255):\n",
        "                output[y, x] = 255\n",
        "\n",
        "    return output\n",
        "\n",
        "# Fungsi Dilasi Manual\n",
        "def dilasi_citra(image, kernel_size):\n",
        "    h, w = image.shape\n",
        "    pad = kernel_size // 2\n",
        "    output = np.zeros_like(image)  # Hasil dilasi\n",
        "\n",
        "    # Iterasi setiap piksel dengan padding\n",
        "    for y in range(pad, h - pad):\n",
        "        for x in range(pad, w - pad):\n",
        "            # Ambil area gambar sesuai ukuran kernel\n",
        "            region = image[y - pad:y + pad + 1, x - pad:x + pad + 1]\n",
        "            # Dilasi: Setidaknya satu piksel di bawah kernel harus bernilai 255\n",
        "            if np.any(region == 255):\n",
        "                output[y, x] = 255\n",
        "\n",
        "    return output"
      ],
      "metadata": {
        "id": "YtJqETqje0Hr"
      },
      "execution_count": null,
      "outputs": []
    },
    {
      "cell_type": "code",
      "source": [
        "img_c= cv2.imread('/content/drive/MyDrive/PCVK/Images/platnomer.jpg',0) #\n",
        "retc, threshc = cv2.threshold(img_c, 127, 225, cv2.THRESH_BINARY)\n",
        "k=7\n",
        "imgC = erosi_citra(dilasi_citra(threshc,k),k)\n",
        "\n",
        "plt.subplot(131),plt.imshow(img_c,cmap = 'gray')\n",
        "plt.title('Citra Awal'), plt.xticks([]), plt.yticks([])\n",
        "plt.subplot(132),plt.imshow(imgC,cmap = 'gray')\n",
        "plt.title('Citra Hasil Closing'), plt.xticks([]),\n",
        "plt.yticks([])\n",
        "plt.show()"
      ],
      "metadata": {
        "id": "H1ys4FbjXQEx"
      },
      "execution_count": null,
      "outputs": []
    },
    {
      "cell_type": "markdown",
      "source": [
        "### **Dengan Library**"
      ],
      "metadata": {
        "id": "aG-ksebQKg1x"
      }
    },
    {
      "cell_type": "code",
      "source": [
        "img = cv2.imread('/content/drive/MyDrive/PCVK/Images/platnomer.jpg',0)\n",
        "ret, thresh = cv2.threshold(img, 127, 225, cv2.THRESH_BINARY)\n",
        "kernel = np.ones((3,3),np.uint8)\n",
        "closs = cv2.morphologyEx(thresh,cv2.MORPH_CLOSE, kernel)\n",
        "\n",
        "plt.subplot(131),plt.imshow(img,cmap = 'gray')\n",
        "plt.title('Citra Awal'), plt.xticks([]), plt.yticks([])\n",
        "plt.subplot(132),plt.imshow(thresh,cmap = 'gray')\n",
        "plt.title('Citra Biner'), plt.xticks([]), plt.yticks([])\n",
        "plt.subplot(133),plt.imshow(closs,cmap = 'gray')\n",
        "plt.title('Citra Hasil Closing'), plt.xticks([]), plt.yticks([])\n",
        "plt.show()"
      ],
      "metadata": {
        "id": "TZAq9Z-rIUd6"
      },
      "execution_count": null,
      "outputs": []
    },
    {
      "cell_type": "markdown",
      "source": [
        "## **Dilasi Cross 3 x 3 dan 5 x 5**"
      ],
      "metadata": {
        "id": "4PvNKX1OKyb8"
      }
    },
    {
      "cell_type": "code",
      "source": [
        "#Dilasi Cross SED\n",
        "def dilasi_citra(F,w):\n",
        "  #size image\n",
        "  p,q= F.shape\n",
        "  imgD= np.zeros((p,q), dtype=np.uint8)\n",
        "\n",
        "  #Generate structure element dilasi (SED)\n",
        "  #SED= np.ones((w,w), dtype=np.uint8)\n",
        "  SED = np.array([[0, 1, 0],\n",
        "                  [1, 1, 1],\n",
        "                  [0, 1, 0]], dtype = np.uint8)\n",
        "  constant1= (w-1)//2\n",
        "\n",
        "  #Proses Dilasi\n",
        "  for i in range(constant1, p-constant1):\n",
        "    for j in range(constant1,q-constant1):\n",
        "      temp= F[i-constant1:i+constant1+1, j-constant1:j+constant1+1]\n",
        "      product= temp*SED\n",
        "      imgD[i,j]= np.max(product)\n",
        "\n",
        "  return imgD"
      ],
      "metadata": {
        "id": "iZy60PXNIUb1"
      },
      "execution_count": null,
      "outputs": []
    },
    {
      "cell_type": "code",
      "source": [
        "print('SED = Cross 3')\n",
        "img_d= cv2.imread('/content/drive/MyDrive/PCVK/Images/platnomer.jpg',0)\n",
        "ret, thresh = cv2.threshold(img_d, 127, 225, cv2.THRESH_BINARY)\n",
        "w=3\n",
        "imgD = dilasi_citra(thresh,w)\n",
        "\n",
        "plt.subplot(131),plt.imshow(img_d,cmap = 'gray')\n",
        "plt.title('Citra Awal'), plt.xticks([]), plt.yticks([])\n",
        "plt.subplot(132),plt.imshow(imgD,cmap = 'gray')\n",
        "plt.title('Citra Hasil Dilasi'), plt.xticks([]),\n",
        "plt.yticks([])\n",
        "plt.show()"
      ],
      "metadata": {
        "id": "UwPiB1f4OSiL"
      },
      "execution_count": null,
      "outputs": []
    },
    {
      "cell_type": "code",
      "source": [
        "def dilasi_citra(F,w):\n",
        "  #size image\n",
        "  p,q= F.shape\n",
        "  imgD= np.zeros((p,q), dtype=np.uint8)\n",
        "  #Generate structure element dilasi (SED)\n",
        "  # SED= np.ones((w,w), dtype=np.uint8)\n",
        "  SED = np.array([[0, 0, 1, 0, 0],\n",
        "                  [0, 0, 1, 0, 0],\n",
        "                  [1, 1, 1, 1, 1],\n",
        "                  [0, 0, 1, 0, 0],\n",
        "                  [0, 0, 1, 0, 0]], dtype = np.uint8)\n",
        "\n",
        "  constant1= (w-1)//2\n",
        "  #Proses Dilasi\n",
        "  for i in range(constant1, p-constant1):\n",
        "    for j in range(constant1,q-constant1):\n",
        "      temp= F[i-constant1:i+constant1+1, j-constant1:j+constant1+1]\n",
        "      product= temp*SED\n",
        "      imgD[i,j]= np.max(product)\n",
        "\n",
        "  return imgD"
      ],
      "metadata": {
        "id": "qIbTcFdzP0nC"
      },
      "execution_count": null,
      "outputs": []
    },
    {
      "cell_type": "code",
      "source": [
        "print('SED = Cross 5')\n",
        "img_d= cv2.imread('/content/drive/MyDrive/PCVK/Images/platnomer.jpg',0)\n",
        "ret, thresh = cv2.threshold(img_d, 127, 225, cv2.THRESH_BINARY)\n",
        "w=5\n",
        "imgD = dilasi_citra(thresh,w)\n",
        "\n",
        "plt.subplot(131),plt.imshow(img_d,cmap = 'gray')\n",
        "plt.title('Citra Awal'), plt.xticks([]), plt.yticks([])\n",
        "plt.subplot(132),plt.imshow(imgD,cmap = 'gray')\n",
        "plt.title('Citra Hasil Dilasi'), plt.xticks([]),\n",
        "plt.yticks([])\n",
        "plt.show()"
      ],
      "metadata": {
        "id": "iXfXR3EZQSEX"
      },
      "execution_count": null,
      "outputs": []
    },
    {
      "cell_type": "markdown",
      "source": [
        "## **Dilasi Circular 3 x 3 dan 5 x 5**"
      ],
      "metadata": {
        "id": "K38PMwJ_LBmr"
      }
    },
    {
      "cell_type": "code",
      "source": [
        "#Dilasi Circular SED\n",
        "def dilasi_citra(F,w):\n",
        "  #size image\n",
        "  p,q= F.shape\n",
        "  imgD= np.zeros((p,q), dtype=np.uint8)\n",
        "  #Generate structure element dilasi (SED)\n",
        "  SED= cv2.getStructuringElement(cv2.MORPH_ELLIPSE,(w,w))\n",
        "  constant1= (w-1)//2\n",
        "  #Proses Dilasi\n",
        "  for i in range(constant1, p-constant1):\n",
        "    for j in range(constant1,q-constant1):\n",
        "      temp= F[i-constant1:i+constant1+1, j-constant1:j+constant1+1]\n",
        "      product= temp*SED\n",
        "      imgD[i,j]= np.max(product)\n",
        "\n",
        "  return imgD"
      ],
      "metadata": {
        "id": "TNbKQj6jLIS-"
      },
      "execution_count": null,
      "outputs": []
    },
    {
      "cell_type": "code",
      "source": [
        "print('SED = Circle 3')\n",
        "img_d= cv2.imread('/content/drive/MyDrive/PCVK/Images/platnomer.jpg',0)\n",
        "ret, thresh = cv2.threshold(img_d, 127, 225, cv2.THRESH_BINARY)\n",
        "w=3\n",
        "imgD = dilasi_citra(thresh,w)\n",
        "\n",
        "plt.subplot(131),plt.imshow(img_d,cmap = 'gray')\n",
        "plt.title('Citra Awal'), plt.xticks([]), plt.yticks([])\n",
        "plt.subplot(132),plt.imshow(imgD,cmap = 'gray')\n",
        "plt.title('Citra Hasil Dilasi'), plt.xticks([]),\n",
        "plt.yticks([])\n",
        "plt.show()"
      ],
      "metadata": {
        "id": "hr5YFj_HQuAu"
      },
      "execution_count": null,
      "outputs": []
    },
    {
      "cell_type": "code",
      "source": [
        "print('SED = Circle 5')\n",
        "img_d= cv2.imread('/content/drive/MyDrive/PCVK/Images/platnomer.jpg',0)\n",
        "ret, thresh = cv2.threshold(img_d, 127, 225, cv2.THRESH_BINARY)\n",
        "w=5\n",
        "imgD = dilasi_citra(thresh,w)\n",
        "\n",
        "plt.subplot(131),plt.imshow(img_d,cmap = 'gray')\n",
        "plt.title('Citra Awal'), plt.xticks([]), plt.yticks([])\n",
        "plt.subplot(132),plt.imshow(imgD,cmap = 'gray')\n",
        "plt.title('Citra Hasil Dilasi'), plt.xticks([]),\n",
        "plt.yticks([])\n",
        "plt.show()"
      ],
      "metadata": {
        "id": "FQ-VwwI7RAWx"
      },
      "execution_count": null,
      "outputs": []
    },
    {
      "cell_type": "markdown",
      "source": [
        "## **Erosi Rectangle 3 x 5 dan 5 x 7**"
      ],
      "metadata": {
        "id": "fAiNIb86M3qH"
      }
    },
    {
      "cell_type": "code",
      "source": [
        "#Erosi Cross SE\n",
        "def erosi_citra(F,p,l):\n",
        "  #size image\n",
        "  m,n= F.shape\n",
        "  #Generate structure element erosi (SE)\n",
        "  SE = cv2.getStructuringElement(cv2.MORPH_RECT,(p,l)) #SE persegi panjang\n",
        "  constant1= (l-1)//2\n",
        "  constant2= (p-1)//2\n",
        "  # print(SE)\n",
        "  imgE= np.zeros((m,n), dtype=np.uint8)\n",
        "  #Proses Erosi\n",
        "  for i in range(constant1, m-constant1):\n",
        "    for j in range(constant2,n-constant2):\n",
        "      temp= F[i-constant1:i+constant1+1, j-constant2:j+constant2+1]\n",
        "      product= temp*SE\n",
        "      imgE[i,j]= np.min(product)\n",
        "\n",
        "  return imgE"
      ],
      "metadata": {
        "id": "vTaiKM6bNFKc"
      },
      "execution_count": null,
      "outputs": []
    },
    {
      "cell_type": "code",
      "source": [
        "print('SE = Rectangle 3x5')\n",
        "img_e= cv2.imread('/content/drive/MyDrive/PCVK/Images/platnomer.jpg',0) #\n",
        "ret1, thresh1 = cv2.threshold(img_e, 127, 225, cv2.THRESH_BINARY)\n",
        "p=5\n",
        "l=3\n",
        "imgE = erosi_citra(thresh1,p,l)\n",
        "\n",
        "plt.subplot(131),plt.imshow(img_e,cmap = 'gray')\n",
        "plt.title('Citra Awal'), plt.xticks([]), plt.yticks([])\n",
        "plt.subplot(132),plt.imshow(imgE,cmap = 'gray')\n",
        "plt.title('Citra Hasil Erosi'), plt.xticks([]), plt.yticks([])\n",
        "plt.show()"
      ],
      "metadata": {
        "id": "66LiDzJgRZbY"
      },
      "execution_count": null,
      "outputs": []
    },
    {
      "cell_type": "code",
      "source": [
        "print('SE = Rectangle 5x7')\n",
        "img_e= cv2.imread('/content/drive/MyDrive/PCVK/Images/platnomer.jpg',0) #\n",
        "ret1, thresh1 = cv2.threshold(img_e, 127, 225, cv2.THRESH_BINARY)\n",
        "p=7\n",
        "l=5\n",
        "imgE = erosi_citra(thresh1,p,l)\n",
        "\n",
        "plt.subplot(131),plt.imshow(img_e,cmap = 'gray')\n",
        "plt.title('Citra Awal'), plt.xticks([]), plt.yticks([])\n",
        "plt.subplot(132),plt.imshow(imgE,cmap = 'gray')\n",
        "plt.title('Citra Hasil Erosi'), plt.xticks([]), plt.yticks([])\n",
        "plt.show()"
      ],
      "metadata": {
        "id": "OQQ9PZsPRiiQ"
      },
      "execution_count": null,
      "outputs": []
    },
    {
      "cell_type": "markdown",
      "source": [
        "## **Erosi Line Vertikal 3 dan 5**"
      ],
      "metadata": {
        "id": "tXp117BlNFYt"
      }
    },
    {
      "cell_type": "code",
      "source": [
        "#Erosi Line Vertikal SE\n",
        "def erosi_citra(F,k):\n",
        "  #size image\n",
        "  m,n= F.shape\n",
        "  #Generate structure element erosi (SE)\n",
        "  SE = cv2.getStructuringElement(cv2.MORPH_ELLIPSE,(1,k)) #SE line vertikal\n",
        "  constant= (k-1)//2\n",
        "  imgE= np.zeros((m,n), dtype=np.uint8)\n",
        "  #Proses Erosi\n",
        "  for i in range(constant, m-constant):\n",
        "    for j in range(constant,n-constant):\n",
        "      temp= F[i-constant:i+constant+1, j-constant:j+constant+1]\n",
        "      product= temp*SE\n",
        "      imgE[i,j]= np.min(product)\n",
        "\n",
        "  return imgE"
      ],
      "metadata": {
        "id": "i9DQ_ZKDNMRe"
      },
      "execution_count": null,
      "outputs": []
    },
    {
      "cell_type": "code",
      "source": [
        "print('SE = Line Vertikal 3')\n",
        "img_e= cv2.imread('/content/drive/MyDrive/PCVK/Images/platnomer.jpg',0) #\n",
        "ret1, thresh1 = cv2.threshold(img_e, 127, 225, cv2.THRESH_BINARY)\n",
        "k=3\n",
        "imgE = erosi_citra(thresh1,k)\n",
        "\n",
        "plt.subplot(131),plt.imshow(img_e,cmap = 'gray')\n",
        "plt.title('Citra Awal'), plt.xticks([]), plt.yticks([])\n",
        "plt.subplot(132),plt.imshow(imgE,cmap = 'gray')\n",
        "plt.title('Citra Hasil Erosi'), plt.xticks([]),\n",
        "plt.yticks([])\n",
        "plt.show()"
      ],
      "metadata": {
        "id": "1mxDPOJ9SMy9"
      },
      "execution_count": null,
      "outputs": []
    },
    {
      "cell_type": "code",
      "source": [
        "print('SE = Line Vertikal 5')\n",
        "img_e= cv2.imread('/content/drive/MyDrive/PCVK/Images/platnomer.jpg',0) #\n",
        "ret1, thresh1 = cv2.threshold(img_e, 127, 225, cv2.THRESH_BINARY)\n",
        "k=5\n",
        "imgE = erosi_citra(thresh1,k)\n",
        "\n",
        "plt.subplot(131),plt.imshow(img_e,cmap = 'gray')\n",
        "plt.title('Citra Awal'), plt.xticks([]), plt.yticks([])\n",
        "plt.subplot(132),plt.imshow(imgE,cmap = 'gray')\n",
        "plt.title('Citra Hasil Erosi'), plt.xticks([]),\n",
        "plt.yticks([])\n",
        "plt.show()"
      ],
      "metadata": {
        "id": "oHuhWtHgSSRf"
      },
      "execution_count": null,
      "outputs": []
    },
    {
      "cell_type": "markdown",
      "source": [
        "## **Tophat**"
      ],
      "metadata": {
        "id": "qfmPc0QpNQb6"
      }
    },
    {
      "cell_type": "code",
      "source": [
        "# Getting the kernel to be used in Top-Hat\n",
        "filterSize =(3, 3)\n",
        "kernel = cv2.getStructuringElement(cv2.MORPH_RECT, filterSize)\n",
        "\n",
        "# Reading the image named 'input.jpg'\n",
        "img = cv2.imread('/content/drive/MyDrive/PCVK/Images/platnomer.jpg')\n",
        "img = cv2.cvtColor(img, cv2.COLOR_BGR2GRAY)\n",
        "\n",
        "# Applying the Top-Hat operation\n",
        "tophat_img = cv2.morphologyEx(input_image, cv2.MORPH_TOPHAT, kernel)\n",
        "\n",
        "#cv2.imshow(\"original\", input_image)\n",
        "#cv2.imshow(\"tophat\", tophat_img)\n",
        "#cv2.waitKey(5000)\n",
        "plt.subplot(131),plt.imshow(img,cmap = 'gray')\n",
        "plt.title('Citra Awal'), plt.xticks([]), plt.yticks([])\n",
        "plt.subplot(132),plt.imshow(tophat_img,cmap = 'gray')\n",
        "plt.title('Citra Hasil TOP HAT'), plt.xticks([]), plt.yticks([])\n",
        "plt.show()"
      ],
      "metadata": {
        "id": "INoCxkALNQEI"
      },
      "execution_count": null,
      "outputs": []
    },
    {
      "cell_type": "markdown",
      "source": [
        "## **Blackhat**"
      ],
      "metadata": {
        "id": "rxCBuhYfNTPK"
      }
    },
    {
      "cell_type": "code",
      "source": [
        "filterSize =(3, 3)\n",
        "kernel = cv2.getStructuringElement(cv2.MORPH_RECT, filterSize)\n",
        "\n",
        "# Reading the image named 'input.jpg'\n",
        "img = cv2.imread('/content/drive/MyDrive/PCVK/Images/kitten01.jpg')\n",
        "img = cv2.cvtColor(img, cv2.COLOR_BGR2GRAY)\n",
        "\n",
        "# Applying the Black-Hat operation\n",
        "#tophat_img = cv2.morphologyEx(img,cv2.MORPH_BLACKHAT, kernel)\n",
        "Kernel = cv2.getStructuringElement(cv2.MORPH_RECT, (13, 5))\n",
        "blackhat = cv2.morphologyEx(img, cv2.MORPH_BLACKHAT, Kernel)\n",
        "\n",
        "#cv2.imshow(\"original\", input_image)\n",
        "#cv2.imshow(\"tophat\", tophat_img)\n",
        "#cv2.waitKey(5000)\n",
        "plt.subplot(131),plt.imshow(img,cmap = 'gray')\n",
        "plt.title('Citra Awal'), plt.xticks([]), plt.yticks([])\n",
        "plt.subplot(132),plt.imshow(blackhat,cmap = 'gray')\n",
        "plt.title('Citra Hasil Black Hat'), plt.xticks([]), plt.yticks([])\n",
        "plt.show()"
      ],
      "metadata": {
        "id": "cR8D68cPNWQ5"
      },
      "execution_count": null,
      "outputs": []
    },
    {
      "cell_type": "markdown",
      "source": [
        "## **Skeleton**"
      ],
      "metadata": {
        "id": "qISfT1QuNYhf"
      }
    },
    {
      "cell_type": "code",
      "source": [
        "import cv2 as cv\n",
        "from matplotlib import pyplot as plt\n",
        "from skimage import filters\n",
        "from skimage.morphology import skeletonize\n",
        "\n",
        "# read image\n",
        "img = cv.imread('/content/drive/MyDrive/PCVK/Images/lily.jpg',0)\n",
        "binary = img > filters.threshold_triangle(img)\n",
        "\n",
        "# true false to one\n",
        "binary_cp = binary.copy()\n",
        "binary_cp[binary_cp == True] = 1\n",
        "binary_cp[binary_cp == False] = 0\n",
        "\n",
        "# skeletonize image\n",
        "skeleton = skeletonize(binary_cp)\n",
        "\n",
        "# print images\n",
        "plt.figure(figsize=(20,20))\n",
        "plt.subplot(121),plt.imshow(img,cmap = 'gray')\n",
        "plt.title('Original Image'), plt.xticks([]), plt.yticks([])\n",
        "plt.subplot(122),plt.imshow(skeleton,cmap = 'gray')\n",
        "plt.title('skeleton Image'), plt.xticks([]), plt.yticks([])\n",
        "plt.savefig(\"binary and bin_skeleton.png\")\n",
        "plt.show()"
      ],
      "metadata": {
        "id": "jsy5yEaxNa1N"
      },
      "execution_count": null,
      "outputs": []
    },
    {
      "cell_type": "markdown",
      "source": [
        "## **Skeleton Inverse**"
      ],
      "metadata": {
        "id": "lKmuX1xgNbOV"
      }
    },
    {
      "cell_type": "code",
      "source": [
        "from skimage import io\n",
        "from matplotlib import pyplot as plt\n",
        "from skimage import filters\n",
        "from skimage.morphology import skeletonize\n",
        "\n",
        "# read image\n",
        "img = io.imread('/content/drive/MyDrive/PCVK/Images/lily.jpg')[...,0]\n",
        "\n",
        "# Note: we want the black bits to be True, so use <\n",
        "binary = img < filters.threshold_triangle(img)\n",
        "\n",
        "# skeletonize image\n",
        "skeleton = skeletonize(binary)\n",
        "\n",
        "# print images\n",
        "fig, ax = plt.subplots(1, 2)\n",
        "ax[0].imshow(img, cmap='gray')\n",
        "ax[0].set_title('original')\n",
        "ax[0].set_axis_off()\n",
        "# note the reversed colormap, gray_r\n",
        "ax[1].imshow(skeleton, cmap='gray_r')\n",
        "ax[1].set_title('skeleton (inverse)')\n",
        "ax[1].set_axis_off()\n",
        "plt.show()"
      ],
      "metadata": {
        "id": "AB9H-NeENg6K"
      },
      "execution_count": null,
      "outputs": []
    },
    {
      "cell_type": "markdown",
      "source": [
        "## **Thickening**"
      ],
      "metadata": {
        "id": "lJauqwHkNgat"
      }
    },
    {
      "cell_type": "code",
      "source": [
        "from skimage import img_as_float\n",
        "from skimage import io, color, morphology\n",
        "import matplotlib.pyplot as plt\n",
        "\n",
        "image = img_as_float(color.rgb2gray(io.imread('/content/drive/MyDrive/PCVK/Images/lily.jpg')))\n",
        "image_binary = image < 0.5\n",
        "out_skeletonize = morphology.skeletonize(image_binary)\n",
        "out_thin = morphology.thin(image_binary)\n",
        "\n",
        "f, (ax0, ax1) = plt.subplots(1, 2, figsize=(10, 3))\n",
        "ax0.imshow(image, cmap='gray')\n",
        "ax0.set_title('Input')\n",
        "\n",
        "ax1.imshow(out_thin, cmap='gray')\n",
        "ax1.set_title('Thin')\n",
        "plt.savefig('/tmp/char_out.png')\n",
        "plt.show()"
      ],
      "metadata": {
        "id": "GK6hK0ZnNnsv"
      },
      "execution_count": null,
      "outputs": []
    }
  ]
}